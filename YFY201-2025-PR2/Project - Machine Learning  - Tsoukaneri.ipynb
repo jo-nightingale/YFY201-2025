{
 "cells": [
  {
   "cell_type": "code",
   "execution_count": 59,
   "id": "f272fe44-ce3f-44ab-8272-51b2faf2b3af",
   "metadata": {},
   "outputs": [],
   "source": [
    "import numpy as np\n",
    "import tensorflow as tf\n",
    "import matplotlib.pyplot as plt\n",
    "import pandas as pd\n",
    "\n",
    "from sklearn.model_selection import train_test_split\n",
    "from sklearn.preprocessing import StandardScaler\n",
    "from sklearn.neighbors import KNeighborsClassifier\n",
    "from sklearn.metrics import confusion_matrix, accuracy_score\n",
    "from sklearn.ensemble import RandomForestClassifier\n",
    "from sklearn.metrics import ConfusionMatrixDisplay\n",
    "\n"
   ]
  },
  {
   "cell_type": "code",
   "execution_count": 60,
   "id": "0ce301c5-5429-468b-a213-e176bd467dc8",
   "metadata": {},
   "outputs": [],
   "source": [
    "data = pd.read_csv('HIGGS_8K.csv', header  = None)"
   ]
  },
  {
   "cell_type": "code",
   "execution_count": 61,
   "id": "1f82253e-0c6d-4232-8b91-15a32daca83a",
   "metadata": {},
   "outputs": [
    {
     "name": "stdout",
     "output_type": "stream",
     "text": [
      "0     float64\n",
      "1     float64\n",
      "2     float64\n",
      "3     float64\n",
      "4     float64\n",
      "5     float64\n",
      "6     float64\n",
      "7     float64\n",
      "8     float64\n",
      "9     float64\n",
      "10    float64\n",
      "11    float64\n",
      "12    float64\n",
      "13    float64\n",
      "14    float64\n",
      "15    float64\n",
      "16    float64\n",
      "17     object\n",
      "18    float64\n",
      "19    float64\n",
      "20    float64\n",
      "21    float64\n",
      "22    float64\n",
      "23    float64\n",
      "24    float64\n",
      "25    float64\n",
      "26    float64\n",
      "27    float64\n",
      "28    float64\n",
      "dtype: object\n"
     ]
    }
   ],
   "source": [
    "print(data.dtypes)"
   ]
  },
  {
   "cell_type": "code",
   "execution_count": 62,
   "id": "562a1167-b427-4864-9b3f-1065d0510c64",
   "metadata": {},
   "outputs": [
    {
     "data": {
      "text/plain": [
       "0       0.000000000000000000e+00.1\n",
       "1                              0.0\n",
       "2                2.548224449157715\n",
       "3                              0.0\n",
       "4                              0.0\n",
       "                   ...            \n",
       "7996             2.548224449157715\n",
       "7997             2.548224449157715\n",
       "7998             2.548224449157715\n",
       "7999                           0.0\n",
       "8000             2.548224449157715\n",
       "Name: 17, Length: 8001, dtype: object"
      ]
     },
     "execution_count": 62,
     "metadata": {},
     "output_type": "execute_result"
    }
   ],
   "source": [
    "data.iloc[:,17]"
   ]
  },
  {
   "cell_type": "code",
   "execution_count": 63,
   "id": "b6f37352-1d97-4df6-8987-aeb548e1d264",
   "metadata": {},
   "outputs": [],
   "source": [
    "data[17] = data[17].replace('0.000000000000000000e+00.1', '0.0')"
   ]
  },
  {
   "cell_type": "code",
   "execution_count": 64,
   "id": "4e365a01-b9b9-4cfb-9c53-aeeac0d71925",
   "metadata": {},
   "outputs": [],
   "source": [
    "data[17] = pd.to_numeric(data[17], errors='coerce')"
   ]
  },
  {
   "cell_type": "code",
   "execution_count": 65,
   "id": "30da54af-718d-4c9e-81f0-a2391596bd1b",
   "metadata": {},
   "outputs": [],
   "source": [
    "X = data.drop(data.columns[0], axis=1)\n",
    "Y = data.iloc[:, 0]"
   ]
  },
  {
   "cell_type": "code",
   "execution_count": 66,
   "id": "8cfa2446-d789-4421-924b-ba4822f80441",
   "metadata": {},
   "outputs": [],
   "source": [
    "X_train, X_test, Y_train, Y_test = train_test_split(X, Y, test_size=0.3, random_state=4455)"
   ]
  },
  {
   "cell_type": "code",
   "execution_count": 67,
   "id": "467f66a8-0742-4123-b7af-6f2ecb0881c2",
   "metadata": {},
   "outputs": [],
   "source": [
    "scaler = StandardScaler()\n",
    "X_train_scaled = scaler.fit_transform(X_train)\n",
    "X_test_scaled = scaler.transform(X_test)"
   ]
  },
  {
   "cell_type": "code",
   "execution_count": 68,
   "id": "c2561dac-baf3-4b39-ac8c-f86d4c74333e",
   "metadata": {},
   "outputs": [],
   "source": [
    "X_train_low = X_train_scaled[:, 0:21] \n",
    "X_test_low = X_test_scaled[:, 0:21]"
   ]
  },
  {
   "cell_type": "code",
   "execution_count": 69,
   "id": "1d524861-baa8-47e8-b5f8-115c7e30c521",
   "metadata": {},
   "outputs": [],
   "source": [
    "X_train_high = X_train_scaled[:, 21:28]  \n",
    "X_test_high = X_test_scaled[:, 21:28]"
   ]
  },
  {
   "cell_type": "markdown",
   "id": "382e572e-f383-4c3d-82eb-a6561b6c3b4b",
   "metadata": {},
   "source": [
    "# K Nearest Neighbour"
   ]
  },
  {
   "cell_type": "code",
   "execution_count": 70,
   "id": "fba703c6-360a-4cab-9a15-6395987602e2",
   "metadata": {},
   "outputs": [],
   "source": [
    "#low level quantities\n",
    "knn_classifier_low = KNeighborsClassifier(n_neighbors = 15)\n",
    "knn_classifier_low.fit(X_train_low, Y_train)\n",
    "knn_pred_low = knn_classifier_low.predict(X_test_low)"
   ]
  },
  {
   "cell_type": "code",
   "execution_count": 71,
   "id": "1cfe00fe-a327-482a-8ee7-26d4bc519b77",
   "metadata": {},
   "outputs": [],
   "source": [
    "#high level quantities\n",
    "knn_classifier_high = KNeighborsClassifier(n_neighbors = 20)\n",
    "knn_classifier_high.fit(X_train_high, Y_train)\n",
    "knn_pred_high = knn_classifier_high.predict(X_test_high)"
   ]
  },
  {
   "cell_type": "code",
   "execution_count": 72,
   "id": "5c61c2ac-c17f-4c52-beb0-9926d943f488",
   "metadata": {},
   "outputs": [
    {
     "name": "stdout",
     "output_type": "stream",
     "text": [
      "[[492 703]\n",
      " [346 860]]\n"
     ]
    },
    {
     "data": {
      "text/plain": [
       "0.5630987088713036"
      ]
     },
     "execution_count": 72,
     "metadata": {},
     "output_type": "execute_result"
    }
   ],
   "source": [
    "#testing low level\n",
    "knn_cm_low = confusion_matrix(Y_test, knn_pred_low)\n",
    "print(knn_cm_low)\n",
    "accuracy_score(Y_test, knn_pred_low)"
   ]
  },
  {
   "cell_type": "code",
   "execution_count": 73,
   "id": "c136f9d0-0c18-4465-8b68-a33c954b571e",
   "metadata": {},
   "outputs": [
    {
     "data": {
      "image/png": "[encoded data removed]",
      "text/plain": [
       "<Figure size 640x480 with 2 Axes>"
      ]
     },
     "metadata": {},
     "output_type": "display_data"
    }
   ],
   "source": [
    "disp = ConfusionMatrixDisplay(confusion_matrix=knn_cm_low, display_labels=knn_classifier_low.classes_)\n",
    "disp.plot()\n",
    "plt.title(\"K Nearest Neighbour - Confusion Matrix for Low Feature Classifier\")\n",
    "plt.show()"
   ]
  },
  {
   "cell_type": "code",
   "execution_count": 74,
   "id": "0c39f66b-6a32-4e4c-ad4c-8151dab1504f",
   "metadata": {},
   "outputs": [
    {
     "name": "stdout",
     "output_type": "stream",
     "text": [
      "[[776 419]\n",
      " [364 842]]\n"
     ]
    },
    {
     "data": {
      "text/plain": [
       "0.6738858808829654"
      ]
     },
     "execution_count": 74,
     "metadata": {},
     "output_type": "execute_result"
    }
   ],
   "source": [
    "#testing high level\n",
    "knn_cm_high = confusion_matrix(Y_test, knn_pred_high)\n",
    "print(knn_cm_high)\n",
    "accuracy_score(Y_test, knn_pred_high)"
   ]
  },
  {
   "cell_type": "code",
   "execution_count": 102,
   "id": "f6222330-dd2d-448a-aff3-6fbba37aaef6",
   "metadata": {},
   "outputs": [
    {
     "name": "stdout",
     "output_type": "stream",
     "text": [
      "precision 0.5502239283429302\n",
      "recall 0.7131011608623549\n"
     ]
    }
   ],
   "source": [
    "print(\"precision\", (860 ) / (703 + 860))\n",
    "print(\"recall\", (860) / (346+ 860))\n"
   ]
  },
  {
   "cell_type": "code",
   "execution_count": 75,
   "id": "f8755e25-de5b-4f46-bfd9-9101e97a30f0",
   "metadata": {},
   "outputs": [
    {
     "data": {
      "image/png": "[encoded data removed]",
      "text/plain": [
       "<Figure size 640x480 with 2 Axes>"
      ]
     },
     "metadata": {},
     "output_type": "display_data"
    }
   ],
   "source": [
    "disp = ConfusionMatrixDisplay(confusion_matrix=knn_cm_high, display_labels=knn_classifier_high.classes_)\n",
    "disp.plot()\n",
    "plt.title(\"K Nearest Neighbour - Confusion Matrix for High Feature Classifier\")\n",
    "plt.show()"
   ]
  },
  {
   "cell_type": "code",
   "execution_count": 108,
   "id": "82fafe39-9e58-4853-bd7b-680f75425455",
   "metadata": {},
   "outputs": [
    {
     "name": "stdout",
     "output_type": "stream",
     "text": [
      "precision 0.6677240285487708\n",
      "recall 0.6981757877280266\n"
     ]
    }
   ],
   "source": [
    "print(\"precision\", (842 ) / (842 + 419))\n",
    "print(\"recall\", (842) / (842+ 364))\n"
   ]
  },
  {
   "cell_type": "markdown",
   "id": "a6f284a6-602a-453b-8926-0c88f2bde2b6",
   "metadata": {},
   "source": [
    "# Random Forest"
   ]
  },
  {
   "cell_type": "code",
   "execution_count": 76,
   "id": "9aaf97e6-e1a8-4b58-8b47-7fb678c8a7d6",
   "metadata": {},
   "outputs": [],
   "source": [
    "rf_classifier_low = RandomForestClassifier(n_estimators = 50, criterion = 'entropy', random_state = 0)\n",
    "rf_classifier_low.fit(X_train_low, Y_train)\n",
    "rf_pred_low = rf_classifier_low.predict(X_test_low)"
   ]
  },
  {
   "cell_type": "code",
   "execution_count": 77,
   "id": "fa4d8bfb-a5f0-4993-9151-64727957c74a",
   "metadata": {},
   "outputs": [],
   "source": [
    "rf_classifier_high = RandomForestClassifier(n_estimators = 50, criterion = 'entropy', random_state = 0)\n",
    "rf_classifier_high.fit(X_train_high, Y_train)\n",
    "rf_pred_high = rf_classifier_high.predict(X_test_high)"
   ]
  },
  {
   "cell_type": "code",
   "execution_count": 78,
   "id": "14e61216-1917-490a-8e2b-5aed888bc64e",
   "metadata": {},
   "outputs": [
    {
     "name": "stdout",
     "output_type": "stream",
     "text": [
      "[[627 568]\n",
      " [390 816]]\n"
     ]
    },
    {
     "data": {
      "text/plain": [
       "0.6009995835068721"
      ]
     },
     "execution_count": 78,
     "metadata": {},
     "output_type": "execute_result"
    }
   ],
   "source": [
    "#testing low level\n",
    "rf_cm_low = confusion_matrix(Y_test, rf_pred_low)\n",
    "print(rf_cm_low)\n",
    "accuracy_score(Y_test, rf_pred_low)"
   ]
  },
  {
   "cell_type": "code",
   "execution_count": 79,
   "id": "5d6b1288-036e-4b63-bf33-a8c633a74590",
   "metadata": {},
   "outputs": [
    {
     "data": {
      "image/png": "[encoded data removed]",
      "text/plain": [
       "<Figure size 640x480 with 2 Axes>"
      ]
     },
     "metadata": {},
     "output_type": "display_data"
    }
   ],
   "source": [
    "disp = ConfusionMatrixDisplay(confusion_matrix=rf_cm_low, display_labels=rf_classifier_low.classes_)\n",
    "disp.plot()\n",
    "plt.title(\"Random Forest - Confusion Matrix for Low Feature Classifier\")\n",
    "plt.show()"
   ]
  },
  {
   "cell_type": "code",
   "execution_count": 107,
   "id": "965dd304-d90f-4836-922d-ffc4931a2c64",
   "metadata": {},
   "outputs": [
    {
     "name": "stdout",
     "output_type": "stream",
     "text": [
      "precision 0.5895953757225434\n",
      "recall 0.6766169154228856\n"
     ]
    }
   ],
   "source": [
    "print(\"precision\", (816 ) / (816 + 568))\n",
    "print(\"recall\", (816) / (816+ 390))\n"
   ]
  },
  {
   "cell_type": "code",
   "execution_count": 80,
   "id": "ccd0449f-1996-4721-9d5b-37a5a5598417",
   "metadata": {},
   "outputs": [
    {
     "name": "stdout",
     "output_type": "stream",
     "text": [
      "[[798 397]\n",
      " [370 836]]\n"
     ]
    },
    {
     "data": {
      "text/plain": [
       "0.6805497709287797"
      ]
     },
     "execution_count": 80,
     "metadata": {},
     "output_type": "execute_result"
    }
   ],
   "source": [
    "#testing high level\n",
    "rf_cm_high = confusion_matrix(Y_test, rf_pred_high)\n",
    "print(rf_cm_high)\n",
    "accuracy_score(Y_test, rf_pred_high)"
   ]
  },
  {
   "cell_type": "code",
   "execution_count": 81,
   "id": "afe558d3-fbd6-4a9f-a24d-734d9d9d0053",
   "metadata": {},
   "outputs": [
    {
     "data": {
      "image/png": "[encoded data removed]",
      "text/plain": [
       "<Figure size 640x480 with 2 Axes>"
      ]
     },
     "metadata": {},
     "output_type": "display_data"
    }
   ],
   "source": [
    "disp = ConfusionMatrixDisplay(confusion_matrix=rf_cm_high, display_labels=rf_classifier_high.classes_)\n",
    "disp.plot()\n",
    "plt.title(\"Random Forest - Confusion Matrix for High Feature Classifier\")\n",
    "plt.show()"
   ]
  },
  {
   "cell_type": "code",
   "execution_count": 106,
   "id": "975eed25-fc5c-4b9f-9fc2-c587b3b21334",
   "metadata": {},
   "outputs": [
    {
     "name": "stdout",
     "output_type": "stream",
     "text": [
      "precision 0.6780210867802109\n",
      "recall 0.693200663349917\n"
     ]
    }
   ],
   "source": [
    "print(\"precision\", (836 ) / (836 + 397))\n",
    "print(\"recall\", (836) / (836+ 370))\n"
   ]
  },
  {
   "cell_type": "markdown",
   "id": "3bfbcb52-778e-4aa7-ae2e-f987abc7c412",
   "metadata": {},
   "source": [
    "# Neural Network"
   ]
  },
  {
   "cell_type": "code",
   "execution_count": 82,
   "id": "96444602-c772-4e2b-baac-706f24db5c88",
   "metadata": {},
   "outputs": [],
   "source": [
    "from keras.models import Sequential\n",
    "from keras.layers import Dense, Input"
   ]
  },
  {
   "cell_type": "code",
   "execution_count": 83,
   "id": "5b7e30a6-223c-4848-aeed-7c2f220e36a1",
   "metadata": {},
   "outputs": [],
   "source": [
    "ann_low = tf.keras.models.Sequential()"
   ]
  },
  {
   "cell_type": "code",
   "execution_count": 84,
   "id": "4b8fc873-fec5-43e1-b629-1c74c2f18169",
   "metadata": {},
   "outputs": [],
   "source": [
    "ann_low.add(Input(shape=(21)))  # This is the Input layer\n",
    "ann_low.add(tf.keras.layers.Dense(24, activation='relu')) # Hidden layer\n",
    "ann_low.add(tf.keras.layers.Dense(12, activation='relu'))\n",
    "ann_low.add(tf.keras.layers.Dense(units=1, activation='sigmoid'))"
   ]
  },
  {
   "cell_type": "code",
   "execution_count": 85,
   "id": "9a19c92b-9b88-4782-8975-544f269b9173",
   "metadata": {},
   "outputs": [],
   "source": [
    "#for non-binary classification loss ='categorical_crossentropy'\n",
    "ann_low.compile(optimizer = 'adam', loss = 'binary_crossentropy', metrics = ['accuracy'])"
   ]
  },
  {
   "cell_type": "code",
   "execution_count": 86,
   "id": "97eda097-caa9-4eec-a62a-0a8e82417009",
   "metadata": {},
   "outputs": [
    {
     "name": "stdout",
     "output_type": "stream",
     "text": [
      "Model: \"sequential_3\"\n",
      "_________________________________________________________________\n",
      " Layer (type)                Output Shape              Param #   \n",
      "=================================================================\n",
      " dense_6 (Dense)             (None, 24)                528       \n",
      "                                                                 \n",
      " dense_7 (Dense)             (None, 12)                300       \n",
      "                                                                 \n",
      " dense_8 (Dense)             (None, 1)                 13        \n",
      "                                                                 \n",
      "=================================================================\n",
      "Total params: 841\n",
      "Trainable params: 841\n",
      "Non-trainable params: 0\n",
      "_________________________________________________________________\n"
     ]
    }
   ],
   "source": [
    "ann_low.summary()"
   ]
  },
  {
   "cell_type": "code",
   "execution_count": 87,
   "id": "ca479a50-0665-4a04-8273-90bd86a3ae44",
   "metadata": {},
   "outputs": [
    {
     "name": "stdout",
     "output_type": "stream",
     "text": [
      "Epoch 1/50\n",
      "175/175 [==============================] - 0s 812us/step - loss: 0.6968 - accuracy: 0.5368\n",
      "Epoch 2/50\n",
      "175/175 [==============================] - 0s 808us/step - loss: 0.6787 - accuracy: 0.5652\n",
      "Epoch 3/50\n",
      "175/175 [==============================] - 0s 898us/step - loss: 0.6703 - accuracy: 0.5823\n",
      "Epoch 4/50\n",
      "175/175 [==============================] - 0s 1ms/step - loss: 0.6638 - accuracy: 0.5932\n",
      "Epoch 5/50\n",
      "175/175 [==============================] - 0s 996us/step - loss: 0.6581 - accuracy: 0.6073\n",
      "Epoch 6/50\n",
      "175/175 [==============================] - 0s 1ms/step - loss: 0.6533 - accuracy: 0.6112\n",
      "Epoch 7/50\n",
      "175/175 [==============================] - 0s 896us/step - loss: 0.6477 - accuracy: 0.6196\n",
      "Epoch 8/50\n",
      "175/175 [==============================] - 0s 1ms/step - loss: 0.6424 - accuracy: 0.6270\n",
      "Epoch 9/50\n",
      "175/175 [==============================] - 0s 952us/step - loss: 0.6376 - accuracy: 0.6388\n",
      "Epoch 10/50\n",
      "175/175 [==============================] - 0s 1ms/step - loss: 0.6346 - accuracy: 0.6370\n",
      "Epoch 11/50\n",
      "175/175 [==============================] - 0s 808us/step - loss: 0.6301 - accuracy: 0.6461\n",
      "Epoch 12/50\n",
      "175/175 [==============================] - 0s 1ms/step - loss: 0.6268 - accuracy: 0.6473\n",
      "Epoch 13/50\n",
      "175/175 [==============================] - 0s 906us/step - loss: 0.6231 - accuracy: 0.6523\n",
      "Epoch 14/50\n",
      "175/175 [==============================] - 0s 1ms/step - loss: 0.6208 - accuracy: 0.6541\n",
      "Epoch 15/50\n",
      "175/175 [==============================] - 0s 1ms/step - loss: 0.6169 - accuracy: 0.6602\n",
      "Epoch 16/50\n",
      "175/175 [==============================] - 0s 1ms/step - loss: 0.6150 - accuracy: 0.6593\n",
      "Epoch 17/50\n",
      "175/175 [==============================] - 0s 849us/step - loss: 0.6119 - accuracy: 0.6655\n",
      "Epoch 18/50\n",
      "175/175 [==============================] - 0s 1ms/step - loss: 0.6089 - accuracy: 0.6671\n",
      "Epoch 19/50\n",
      "175/175 [==============================] - 0s 908us/step - loss: 0.6065 - accuracy: 0.6695\n",
      "Epoch 20/50\n",
      "175/175 [==============================] - 0s 943us/step - loss: 0.6045 - accuracy: 0.6712\n",
      "Epoch 21/50\n",
      "175/175 [==============================] - 0s 901us/step - loss: 0.6025 - accuracy: 0.6727\n",
      "Epoch 22/50\n",
      "175/175 [==============================] - 0s 851us/step - loss: 0.6003 - accuracy: 0.6764\n",
      "Epoch 23/50\n",
      "175/175 [==============================] - 0s 868us/step - loss: 0.5984 - accuracy: 0.6773\n",
      "Epoch 24/50\n",
      "175/175 [==============================] - 0s 1ms/step - loss: 0.5966 - accuracy: 0.6764\n",
      "Epoch 25/50\n",
      "175/175 [==============================] - 0s 1ms/step - loss: 0.5945 - accuracy: 0.6821\n",
      "Epoch 26/50\n",
      "175/175 [==============================] - 0s 2ms/step - loss: 0.5935 - accuracy: 0.6829\n",
      "Epoch 27/50\n",
      "175/175 [==============================] - 0s 1ms/step - loss: 0.5913 - accuracy: 0.6850\n",
      "Epoch 28/50\n",
      "175/175 [==============================] - 0s 1ms/step - loss: 0.5903 - accuracy: 0.6886\n",
      "Epoch 29/50\n",
      "175/175 [==============================] - 0s 1ms/step - loss: 0.5883 - accuracy: 0.6875\n",
      "Epoch 30/50\n",
      "175/175 [==============================] - 0s 1ms/step - loss: 0.5873 - accuracy: 0.6888\n",
      "Epoch 31/50\n",
      "175/175 [==============================] - 0s 1ms/step - loss: 0.5849 - accuracy: 0.6900\n",
      "Epoch 32/50\n",
      "175/175 [==============================] - 0s 1ms/step - loss: 0.5853 - accuracy: 0.6925\n",
      "Epoch 33/50\n",
      "175/175 [==============================] - 0s 1ms/step - loss: 0.5837 - accuracy: 0.6889\n",
      "Epoch 34/50\n",
      "175/175 [==============================] - 0s 1ms/step - loss: 0.5825 - accuracy: 0.6988\n",
      "Epoch 35/50\n",
      "175/175 [==============================] - 0s 988us/step - loss: 0.5809 - accuracy: 0.6961\n",
      "Epoch 36/50\n",
      "175/175 [==============================] - 0s 988us/step - loss: 0.5804 - accuracy: 0.6946\n",
      "Epoch 37/50\n",
      "175/175 [==============================] - 0s 1ms/step - loss: 0.5786 - accuracy: 0.6989\n",
      "Epoch 38/50\n",
      "175/175 [==============================] - 0s 988us/step - loss: 0.5783 - accuracy: 0.6973\n",
      "Epoch 39/50\n",
      "175/175 [==============================] - 0s 1ms/step - loss: 0.5771 - accuracy: 0.7000\n",
      "Epoch 40/50\n",
      "175/175 [==============================] - 0s 988us/step - loss: 0.5756 - accuracy: 0.6986\n",
      "Epoch 41/50\n",
      "175/175 [==============================] - 0s 1ms/step - loss: 0.5741 - accuracy: 0.6975\n",
      "Epoch 42/50\n",
      "175/175 [==============================] - 0s 988us/step - loss: 0.5752 - accuracy: 0.6988\n",
      "Epoch 43/50\n",
      "175/175 [==============================] - 0s 905us/step - loss: 0.5730 - accuracy: 0.7021\n",
      "Epoch 44/50\n",
      "175/175 [==============================] - 0s 898us/step - loss: 0.5720 - accuracy: 0.7005\n",
      "Epoch 45/50\n",
      "175/175 [==============================] - 0s 891us/step - loss: 0.5708 - accuracy: 0.7020\n",
      "Epoch 46/50\n",
      "175/175 [==============================] - 0s 898us/step - loss: 0.5704 - accuracy: 0.7030\n",
      "Epoch 47/50\n",
      "175/175 [==============================] - 0s 898us/step - loss: 0.5693 - accuracy: 0.7048\n",
      "Epoch 48/50\n",
      "175/175 [==============================] - 0s 998us/step - loss: 0.5678 - accuracy: 0.7048\n",
      "Epoch 49/50\n",
      "175/175 [==============================] - 0s 910us/step - loss: 0.5675 - accuracy: 0.7036\n",
      "Epoch 50/50\n",
      "175/175 [==============================] - 0s 988us/step - loss: 0.5662 - accuracy: 0.7066\n"
     ]
    },
    {
     "data": {
      "text/plain": [
       "<keras.callbacks.History at 0x20b3962f970>"
      ]
     },
     "execution_count": 87,
     "metadata": {},
     "output_type": "execute_result"
    }
   ],
   "source": [
    "ann_low.fit(X_train_low, Y_train, batch_size = 32, epochs = 50)"
   ]
  },
  {
   "cell_type": "code",
   "execution_count": 88,
   "id": "0ed39c48-86fa-4b46-add8-c767b0e168ea",
   "metadata": {},
   "outputs": [
    {
     "name": "stdout",
     "output_type": "stream",
     "text": [
      "76/76 [==============================] - 0s 1ms/step\n"
     ]
    }
   ],
   "source": [
    "ann_pred_low = ann_low.predict(X_test_low)\n",
    "ann_pred_low = ann_pred_low > 0.5"
   ]
  },
  {
   "cell_type": "code",
   "execution_count": 89,
   "id": "7da5101f-c6f7-4ae7-af02-0c3ac498aa9f",
   "metadata": {},
   "outputs": [
    {
     "name": "stdout",
     "output_type": "stream",
     "text": [
      "[[692 503]\n",
      " [493 713]]\n"
     ]
    },
    {
     "data": {
      "text/plain": [
       "0.5851728446480633"
      ]
     },
     "execution_count": 89,
     "metadata": {},
     "output_type": "execute_result"
    }
   ],
   "source": [
    "ann_cm_low = confusion_matrix(Y_test, ann_pred_low)\n",
    "print(ann_cm_low)\n",
    "accuracy_score(Y_test, ann_pred_low)"
   ]
  },
  {
   "cell_type": "code",
   "execution_count": 90,
   "id": "e9bcb6f2-f022-4ecf-8de4-ef603ea7b8d5",
   "metadata": {},
   "outputs": [],
   "source": [
    "#high Feature\n",
    "ann_high = tf.keras.models.Sequential()\n",
    "ann_high.add(Input(shape=(7)))  # This is the Input layer\n",
    "ann_high.add(tf.keras.layers.Dense(24, activation='relu')) # Hidden layer\n",
    "ann_high.add(tf.keras.layers.Dense(12, activation='relu'))\n",
    "ann_high.add(tf.keras.layers.Dense(units=1, activation='sigmoid'))"
   ]
  },
  {
   "cell_type": "code",
   "execution_count": 91,
   "id": "9a71e52e-e751-4078-b122-185d33af6dc2",
   "metadata": {},
   "outputs": [],
   "source": [
    "#for non-binary classification loss ='categorical_crossentropy'\n",
    "ann_high.compile(optimizer = 'adam', loss = 'binary_crossentropy', metrics = ['accuracy'])"
   ]
  },
  {
   "cell_type": "code",
   "execution_count": 92,
   "id": "1094a690-a564-4d78-8db2-533a8ba67e3e",
   "metadata": {},
   "outputs": [
    {
     "name": "stdout",
     "output_type": "stream",
     "text": [
      "Model: \"sequential_4\"\n",
      "_________________________________________________________________\n",
      " Layer (type)                Output Shape              Param #   \n",
      "=================================================================\n",
      " dense_9 (Dense)             (None, 24)                192       \n",
      "                                                                 \n",
      " dense_10 (Dense)            (None, 12)                300       \n",
      "                                                                 \n",
      " dense_11 (Dense)            (None, 1)                 13        \n",
      "                                                                 \n",
      "=================================================================\n",
      "Total params: 505\n",
      "Trainable params: 505\n",
      "Non-trainable params: 0\n",
      "_________________________________________________________________\n"
     ]
    }
   ],
   "source": [
    "ann_high.summary()"
   ]
  },
  {
   "cell_type": "code",
   "execution_count": 93,
   "id": "2f7217d3-1c19-46d5-9732-814ecaa55aa5",
   "metadata": {},
   "outputs": [
    {
     "name": "stdout",
     "output_type": "stream",
     "text": [
      "Epoch 1/50\n",
      "175/175 [==============================] - 1s 1ms/step - loss: 0.6916 - accuracy: 0.5543\n",
      "Epoch 2/50\n",
      "175/175 [==============================] - 0s 1ms/step - loss: 0.6671 - accuracy: 0.6148\n",
      "Epoch 3/50\n",
      "175/175 [==============================] - 0s 937us/step - loss: 0.6462 - accuracy: 0.6286\n",
      "Epoch 4/50\n",
      "175/175 [==============================] - 0s 916us/step - loss: 0.6322 - accuracy: 0.6461\n",
      "Epoch 5/50\n",
      "175/175 [==============================] - 0s 998us/step - loss: 0.6207 - accuracy: 0.6570\n",
      "Epoch 6/50\n",
      "175/175 [==============================] - 0s 1ms/step - loss: 0.6121 - accuracy: 0.6636\n",
      "Epoch 7/50\n",
      "175/175 [==============================] - 0s 921us/step - loss: 0.6038 - accuracy: 0.6743\n",
      "Epoch 8/50\n",
      "175/175 [==============================] - 0s 1ms/step - loss: 0.5996 - accuracy: 0.6752\n",
      "Epoch 9/50\n",
      "175/175 [==============================] - 0s 975us/step - loss: 0.5950 - accuracy: 0.6784\n",
      "Epoch 10/50\n",
      "175/175 [==============================] - 0s 1ms/step - loss: 0.5910 - accuracy: 0.6795\n",
      "Epoch 11/50\n",
      "175/175 [==============================] - 0s 1ms/step - loss: 0.5881 - accuracy: 0.6861\n",
      "Epoch 12/50\n",
      "175/175 [==============================] - 0s 1ms/step - loss: 0.5870 - accuracy: 0.6891\n",
      "Epoch 13/50\n",
      "175/175 [==============================] - 0s 1ms/step - loss: 0.5835 - accuracy: 0.6893\n",
      "Epoch 14/50\n",
      "175/175 [==============================] - 0s 988us/step - loss: 0.5830 - accuracy: 0.6846\n",
      "Epoch 15/50\n",
      "175/175 [==============================] - 0s 1ms/step - loss: 0.5792 - accuracy: 0.6911\n",
      "Epoch 16/50\n",
      "175/175 [==============================] - 0s 1ms/step - loss: 0.5782 - accuracy: 0.6932\n",
      "Epoch 17/50\n",
      "175/175 [==============================] - 0s 988us/step - loss: 0.5765 - accuracy: 0.6946\n",
      "Epoch 18/50\n",
      "175/175 [==============================] - 0s 1ms/step - loss: 0.5747 - accuracy: 0.6941\n",
      "Epoch 19/50\n",
      "175/175 [==============================] - 0s 1ms/step - loss: 0.5725 - accuracy: 0.6950\n",
      "Epoch 20/50\n",
      "175/175 [==============================] - 0s 1ms/step - loss: 0.5707 - accuracy: 0.7014\n",
      "Epoch 21/50\n",
      "175/175 [==============================] - 0s 1ms/step - loss: 0.5689 - accuracy: 0.6984\n",
      "Epoch 22/50\n",
      "175/175 [==============================] - 0s 988us/step - loss: 0.5681 - accuracy: 0.7043\n",
      "Epoch 23/50\n",
      "175/175 [==============================] - 0s 1ms/step - loss: 0.5670 - accuracy: 0.7020\n",
      "Epoch 24/50\n",
      "175/175 [==============================] - 0s 1ms/step - loss: 0.5653 - accuracy: 0.7029\n",
      "Epoch 25/50\n",
      "175/175 [==============================] - 0s 1ms/step - loss: 0.5632 - accuracy: 0.7034\n",
      "Epoch 26/50\n",
      "175/175 [==============================] - 0s 988us/step - loss: 0.5624 - accuracy: 0.7054\n",
      "Epoch 27/50\n",
      "175/175 [==============================] - 0s 1ms/step - loss: 0.5614 - accuracy: 0.7030\n",
      "Epoch 28/50\n",
      "175/175 [==============================] - 0s 1ms/step - loss: 0.5605 - accuracy: 0.7039\n",
      "Epoch 29/50\n",
      "175/175 [==============================] - 0s 1ms/step - loss: 0.5606 - accuracy: 0.7075\n",
      "Epoch 30/50\n",
      "175/175 [==============================] - 0s 1ms/step - loss: 0.5595 - accuracy: 0.7048\n",
      "Epoch 31/50\n",
      "175/175 [==============================] - 0s 1ms/step - loss: 0.5578 - accuracy: 0.7109\n",
      "Epoch 32/50\n",
      "175/175 [==============================] - 0s 1ms/step - loss: 0.5573 - accuracy: 0.7080\n",
      "Epoch 33/50\n",
      "175/175 [==============================] - 0s 1ms/step - loss: 0.5561 - accuracy: 0.7120\n",
      "Epoch 34/50\n",
      "175/175 [==============================] - 0s 1ms/step - loss: 0.5549 - accuracy: 0.7091\n",
      "Epoch 35/50\n",
      "175/175 [==============================] - 0s 988us/step - loss: 0.5548 - accuracy: 0.7127\n",
      "Epoch 36/50\n",
      "175/175 [==============================] - 0s 1ms/step - loss: 0.5546 - accuracy: 0.7111\n",
      "Epoch 37/50\n",
      "175/175 [==============================] - 0s 1ms/step - loss: 0.5538 - accuracy: 0.7100\n",
      "Epoch 38/50\n",
      "175/175 [==============================] - 0s 988us/step - loss: 0.5542 - accuracy: 0.7096\n",
      "Epoch 39/50\n",
      "175/175 [==============================] - 0s 1ms/step - loss: 0.5541 - accuracy: 0.7132\n",
      "Epoch 40/50\n",
      "175/175 [==============================] - 0s 988us/step - loss: 0.5524 - accuracy: 0.7107\n",
      "Epoch 41/50\n",
      "175/175 [==============================] - 0s 1ms/step - loss: 0.5527 - accuracy: 0.7098\n",
      "Epoch 42/50\n",
      "175/175 [==============================] - 0s 988us/step - loss: 0.5521 - accuracy: 0.7086\n",
      "Epoch 43/50\n",
      "175/175 [==============================] - 0s 1ms/step - loss: 0.5509 - accuracy: 0.7091\n",
      "Epoch 44/50\n",
      "175/175 [==============================] - 0s 1ms/step - loss: 0.5507 - accuracy: 0.7121\n",
      "Epoch 45/50\n",
      "175/175 [==============================] - 0s 988us/step - loss: 0.5513 - accuracy: 0.7116\n",
      "Epoch 46/50\n",
      "175/175 [==============================] - 0s 988us/step - loss: 0.5497 - accuracy: 0.7129\n",
      "Epoch 47/50\n",
      "175/175 [==============================] - 0s 1ms/step - loss: 0.5498 - accuracy: 0.7116\n",
      "Epoch 48/50\n",
      "175/175 [==============================] - 0s 1ms/step - loss: 0.5485 - accuracy: 0.7086\n",
      "Epoch 49/50\n",
      "175/175 [==============================] - 0s 1ms/step - loss: 0.5485 - accuracy: 0.7129\n",
      "Epoch 50/50\n",
      "175/175 [==============================] - 0s 1ms/step - loss: 0.5491 - accuracy: 0.7157\n"
     ]
    },
    {
     "data": {
      "text/plain": [
       "<keras.callbacks.History at 0x20b3be7b730>"
      ]
     },
     "execution_count": 93,
     "metadata": {},
     "output_type": "execute_result"
    }
   ],
   "source": [
    "ann_high.fit(X_train_high, Y_train, batch_size = 32, epochs = 50)"
   ]
  },
  {
   "cell_type": "code",
   "execution_count": 94,
   "id": "a6cc53f7-b043-4831-9f37-54521a32f5a9",
   "metadata": {},
   "outputs": [
    {
     "name": "stdout",
     "output_type": "stream",
     "text": [
      "76/76 [==============================] - 0s 777us/step\n"
     ]
    }
   ],
   "source": [
    "ann_pred_high = ann_high.predict(X_test_high)\n",
    "ann_pred_high = ann_pred_high > 0.5"
   ]
  },
  {
   "cell_type": "code",
   "execution_count": 95,
   "id": "a2e677aa-54ad-4077-b8fa-68927a30e02f",
   "metadata": {},
   "outputs": [
    {
     "name": "stdout",
     "output_type": "stream",
     "text": [
      "[[813 382]\n",
      " [336 870]]\n"
     ]
    },
    {
     "data": {
      "text/plain": [
       "0.7009579341940858"
      ]
     },
     "execution_count": 95,
     "metadata": {},
     "output_type": "execute_result"
    }
   ],
   "source": [
    "ann_cm_high = confusion_matrix(Y_test, ann_pred_high)\n",
    "print(ann_cm_high)\n",
    "accuracy_score(Y_test, ann_pred_high)"
   ]
  },
  {
   "cell_type": "code",
   "execution_count": 96,
   "id": "6f46c60d-a884-42bc-8340-e9546a9cba5b",
   "metadata": {},
   "outputs": [
    {
     "data": {
      "image/png": "[encoded data removed]",
      "text/plain": [
       "<Figure size 640x480 with 2 Axes>"
      ]
     },
     "metadata": {},
     "output_type": "display_data"
    }
   ],
   "source": [
    "disp = ConfusionMatrixDisplay(confusion_matrix=ann_cm_low, display_labels=rf_classifier_high.classes_)\n",
    "disp.plot()\n",
    "plt.title(\"Neural Network - Confusion Matrix for Low Feature Classifier\")\n",
    "plt.show()"
   ]
  },
  {
   "cell_type": "code",
   "execution_count": 109,
   "id": "a4fc84c0-3714-4562-aa44-89711ef116a3",
   "metadata": {},
   "outputs": [
    {
     "name": "stdout",
     "output_type": "stream",
     "text": [
      "precision 0.5863486842105263\n",
      "recall 0.5912106135986733\n"
     ]
    }
   ],
   "source": [
    "print(\"precision\", (713 ) / (713 + 503))\n",
    "print(\"recall\", (713) / (713 + 493))"
   ]
  },
  {
   "cell_type": "code",
   "execution_count": 97,
   "id": "802f1fd5-0a65-40f5-99b7-651ef14490e7",
   "metadata": {},
   "outputs": [
    {
     "data": {
      "image/png": "[encoded data removed]",
      "text/plain": [
       "<Figure size 640x480 with 2 Axes>"
      ]
     },
     "metadata": {},
     "output_type": "display_data"
    }
   ],
   "source": [
    "disp = ConfusionMatrixDisplay(confusion_matrix=ann_cm_high, display_labels=rf_classifier_high.classes_)\n",
    "disp.plot()\n",
    "plt.title(\"Neural Network - Confusion Matrix for high Feature Classifier\")\n",
    "plt.show()"
   ]
  },
  {
   "cell_type": "code",
   "execution_count": 110,
   "id": "4869fb2a-dc42-4d8a-97d8-9870354b380f",
   "metadata": {},
   "outputs": [
    {
     "name": "stdout",
     "output_type": "stream",
     "text": [
      "precision 0.694888178913738\n",
      "recall 0.7213930348258707\n"
     ]
    }
   ],
   "source": [
    "print(\"precision\", (870 ) / (870 + 382))\n",
    "print(\"recall\", (870) / (870 + 336))"
   ]
  },
  {
   "cell_type": "code",
   "execution_count": null,
   "id": "1d3992f8-4b56-43bc-adc5-5e13f4872b1f",
   "metadata": {},
   "outputs": [],
   "source": []
  }
 ],
 "metadata": {
  "kernelspec": {
   "display_name": "Python [conda env:tf_env]",
   "language": "python",
   "name": "conda-env-tf_env-py"
  },
  "language_info": {
   "codemirror_mode": {
    "name": "ipython",
    "version": 3
   },
   "file_extension": ".py",
   "mimetype": "text/x-python",
   "name": "python",
   "nbconvert_exporter": "python",
   "pygments_lexer": "ipython3",
   "version": "3.10.8"
  }
 },
 "nbformat": 4,
 "nbformat_minor": 5
}
